{
 "cells": [
  {
   "cell_type": "code",
   "execution_count": 1,
   "id": "317b8417-6e2b-4925-9bc1-2b41488c6c7f",
   "metadata": {},
   "outputs": [],
   "source": [
    "import os\n",
    "from groq import Groq\n",
    "from langchain_groq import ChatGroq\n",
    "from dotenv import load_dotenv, find_dotenv\n",
    "\n",
    "from langchain.prompts import ChatPromptTemplate\n",
    "from langchain.prompts import SystemMessagePromptTemplate\n",
    "from langchain.prompts import HumanMessagePromptTemplate\n",
    "\n",
    "from llama_index.core.llms import ChatMessage, MessageRole\n",
    "\n",
    "from langchain.output_parsers import ResponseSchema, StructuredOutputParser\n",
    "from langchain_core.output_parsers import StrOutputParser\n",
    "\n",
    "from langchain_core.runnables import RunnableSequence\n",
    "\n",
    "from langchain.chains import LLMChain, SequentialChain"
   ]
  },
  {
   "cell_type": "code",
   "execution_count": 4,
   "id": "9c82bc87-8ac6-4e66-b56f-f7e2ef9096bd",
   "metadata": {},
   "outputs": [],
   "source": [
    "load_dotenv(dotenv_path=\"config.env\")\n",
    "api_key = os.getenv(\"GROQ_API_KEY\")\n",
    "os.environ[\"GROQ_API_KEY\"] = api_key\n",
    "llm_model = \"llama3-70b-8192\""
   ]
  },
  {
   "cell_type": "code",
   "execution_count": 5,
   "id": "d2f140f2-dcb2-4b62-bed2-1ef213946aa9",
   "metadata": {},
   "outputs": [],
   "source": [
    "llm = ChatGroq(\n",
    "    model=llm_model,\n",
    "    temperature=1,\n",
    "    max_retries=2,\n",
    ")\n",
    "output_dict_list = []"
   ]
  },
  {
   "cell_type": "code",
   "execution_count": 111,
   "id": "cb4699ec-1fe7-4e11-8fa2-fb22fa38b86d",
   "metadata": {
    "scrolled": true
   },
   "outputs": [
    {
     "name": "stdout",
     "output_type": "stream",
     "text": [
      "[SystemMessage(content=\"You are required to generate domain names based on a given topic. \\n    For every request, you will be provided with a topic, and your task \\n    is to generate domain names that include the word 'DOMAIN' before \\n    each suggested name. Below are examples of how the input request \\n    and your response should look like:\\n    \\n    Example:\\n    \\n    Request: Please help me generate 3 domain names about cooking.\\n    Response:\\n    DOMAIN: TastyHub.com\\n    DOMAIN: RecipeRush.net\\n    DOMAIN: TheCookingCoach.io\", additional_kwargs={}, response_metadata={}), HumanMessage(content='Please help me generate 20 domains related to phone with tld .com', additional_kwargs={}, response_metadata={})]\n"
     ]
    }
   ],
   "source": [
    "system_prompt =\"\"\"You are required to generate domain names based on a given topic. \n",
    "    For every request, you will be provided with a topic, and your task \n",
    "    is to generate domain names that include the word 'DOMAIN' before \n",
    "    each suggested name. Below are examples of how the input request \n",
    "    and your response should look like:\n",
    "    \n",
    "    Example:\n",
    "    \n",
    "    Request: Please help me generate 3 domain names about cooking.\n",
    "    Response:\n",
    "    DOMAIN: TastyHub.com\n",
    "    DOMAIN: RecipeRush.net\n",
    "    DOMAIN: TheCookingCoach.io\"\"\"\n",
    "\n",
    "user_prompt = \"Please help me generate {number} domains related to {topic} with tld {tld}\"\n",
    "prompt_template = ChatPromptTemplate([\n",
    "    (\"system\", system_prompt),\n",
    "    (\"user\", user_prompt)\n",
    "])\n",
    "num = 20\n",
    "tld = \".com\"\n",
    "topic = \"phone\"\n",
    "customer_messages = prompt_template.format_messages(\n",
    "                    number=20,\n",
    "                    tld=tld,\n",
    "                    topic=topic)\n",
    "print(customer_messages)"
   ]
  },
  {
   "cell_type": "code",
   "execution_count": 112,
   "id": "288a2bf4-48e5-4d0f-9d8c-3aa89a9ffb54",
   "metadata": {},
   "outputs": [],
   "source": [
    "response1 = chat(customer_messages)"
   ]
  },
  {
   "cell_type": "code",
   "execution_count": 113,
   "id": "e010db7b-d738-4cbc-a8dc-9365eb97bb50",
   "metadata": {},
   "outputs": [
    {
     "name": "stdout",
     "output_type": "stream",
     "text": [
      "Here are 20 domain name suggestions related to phones with the TLD .com:\n",
      "\n",
      "1. DOMAIN: PhoneFiesta.com\n",
      "2. DOMAIN: MobileMasters.com\n",
      "3. DOMAIN: CellSavvy.com\n",
      "4. DOMAIN: PhoneProPlus.com\n",
      "5. DOMAIN: SmartPhoneHub.com\n",
      "6. DOMAIN: RingMyBell.com\n",
      "7. DOMAIN: PhoneBuzzing.com\n",
      "8. DOMAIN: MobileMoments.com\n",
      "9. DOMAIN: PhoneFusion.com\n",
      "10. DOMAIN: CellPhoneSavvy.com\n",
      "11. DOMAIN: DialDirectly.com\n",
      "12. DOMAIN: PhonePitStop.com\n",
      "13. DOMAIN: MobileMatey.com\n",
      "14. DOMAIN: PhoneFanatic.com\n",
      "15. DOMAIN: CellCentral.com\n",
      "16. DOMAIN: PhonePhoria.com\n",
      "17. DOMAIN: Mobile Marvels.com\n",
      "18. DOMAIN: PhoneGenie.com\n",
      "19. DOMAIN: CellConnection.com\n",
      "20. DOMAIN: PhonePresto.com\n",
      "\n",
      "Let me know if you need more!\n"
     ]
    }
   ],
   "source": [
    "print(response1.content)"
   ]
  },
  {
   "cell_type": "code",
   "execution_count": 114,
   "id": "04a35ae2-0a54-4f64-bba9-d6ae3e64a5a4",
   "metadata": {},
   "outputs": [],
   "source": [
    "domain_schema = ResponseSchema(\n",
    "    name=\"domain\",\n",
    "    description=\"\"\"\\\n",
    "    Was the domain name of the text \\\n",
    "    For example, if the text contains The domains are \"hello.com and byebye.net\"  \\\n",
    "    the output should be a list: [\"hello.com\", \"byebye.net\"].\n",
    "    \"\"\"\n",
    ")\n",
    "response_schemas = [domain_schema,]"
   ]
  },
  {
   "cell_type": "code",
   "execution_count": 115,
   "id": "a561e1eb-220b-4a87-a21f-45a2b3f13d0f",
   "metadata": {},
   "outputs": [],
   "source": [
    "output_parser = StructuredOutputParser.from_response_schemas(response_schemas)"
   ]
  },
  {
   "cell_type": "code",
   "execution_count": 116,
   "id": "c21e5c4f-400e-455f-84bf-b274f611006c",
   "metadata": {},
   "outputs": [],
   "source": [
    "format_instructions = output_parser.get_format_instructions()"
   ]
  },
  {
   "cell_type": "code",
   "execution_count": 117,
   "id": "b27f6357-dfca-4bc5-8594-73b9781d7629",
   "metadata": {},
   "outputs": [
    {
     "name": "stdout",
     "output_type": "stream",
     "text": [
      "The output should be a markdown code snippet formatted in the following schema, including the leading and trailing \"```json\" and \"```\":\n",
      "\n",
      "```json\n",
      "{\n",
      "\t\"domain\": string  //     Was the domain name of the text     For example, if the text contains The domains are \"hello.com and byebye.net\"      the output should be a list: [\"hello.com\", \"byebye.net\"].\n",
      "    \n",
      "}\n",
      "```\n"
     ]
    }
   ],
   "source": [
    "print(format_instructions)"
   ]
  },
  {
   "cell_type": "code",
   "execution_count": 129,
   "id": "82168039-3050-4c60-b26b-c7ccfb030412",
   "metadata": {},
   "outputs": [],
   "source": [
    "review_template1 = \"\"\"\\\n",
    "For the given text, extract the following information:\n",
    "\n",
    "- **domain**: Identify all domain names mentioned in the text and return them as a list. \n",
    "\n",
    "**Text To Analyze:** \n",
    "{text}\n",
    "**End Of Text**\n",
    "{format_instructions}\n",
    "\n",
    "Please output the result strictly in valid JSON format, without any additional text, commentary, or explanation.\n",
    "\n",
    "\"\"\"\n",
    "\n",
    "review_prompt = ChatPromptTemplate.from_template(template=review_template1)\n",
    "\n",
    "messages = review_prompt.format_messages(text=response1.content, \n",
    "                                format_instructions=format_instructions)"
   ]
  },
  {
   "cell_type": "code",
   "execution_count": 130,
   "id": "dc36d430-224f-4084-93f7-766a28876287",
   "metadata": {},
   "outputs": [
    {
     "name": "stdout",
     "output_type": "stream",
     "text": [
      "For the given text, extract the following information:\n",
      "\n",
      "- **domain**: Identify all domain names mentioned in the text and return them as a list. \n",
      "\n",
      "**Text To Analyze:** \n",
      "Here are 20 domain name suggestions related to phones with the TLD .com:\n",
      "\n",
      "1. DOMAIN: PhoneFiesta.com\n",
      "2. DOMAIN: MobileMasters.com\n",
      "3. DOMAIN: CellSavvy.com\n",
      "4. DOMAIN: PhoneProPlus.com\n",
      "5. DOMAIN: SmartPhoneHub.com\n",
      "6. DOMAIN: RingMyBell.com\n",
      "7. DOMAIN: PhoneBuzzing.com\n",
      "8. DOMAIN: MobileMoments.com\n",
      "9. DOMAIN: PhoneFusion.com\n",
      "10. DOMAIN: CellPhoneSavvy.com\n",
      "11. DOMAIN: DialDirectly.com\n",
      "12. DOMAIN: PhonePitStop.com\n",
      "13. DOMAIN: MobileMatey.com\n",
      "14. DOMAIN: PhoneFanatic.com\n",
      "15. DOMAIN: CellCentral.com\n",
      "16. DOMAIN: PhonePhoria.com\n",
      "17. DOMAIN: Mobile Marvels.com\n",
      "18. DOMAIN: PhoneGenie.com\n",
      "19. DOMAIN: CellConnection.com\n",
      "20. DOMAIN: PhonePresto.com\n",
      "\n",
      "Let me know if you need more!\n",
      "**End Of Text**\n",
      "The output should be a markdown code snippet formatted in the following schema, including the leading and trailing \"```json\" and \"```\":\n",
      "\n",
      "```json\n",
      "{\n",
      "\t\"domain\": string  //     Was the domain name of the text     For example, if the text contains The domains are \"hello.com and byebye.net\"      the output should be a list: [\"hello.com\", \"byebye.net\"].\n",
      "    \n",
      "}\n",
      "```\n",
      "\n",
      "Please output the result strictly in valid JSON format, without any additional text, commentary, or explanation.\n",
      "\n",
      "\n"
     ]
    }
   ],
   "source": [
    "print(messages[0].content)"
   ]
  },
  {
   "cell_type": "code",
   "execution_count": 131,
   "id": "cc9dbc5d-d16e-4256-9a40-a27f24f0a424",
   "metadata": {},
   "outputs": [],
   "source": [
    "response = chat(messages)"
   ]
  },
  {
   "cell_type": "code",
   "execution_count": 132,
   "id": "c16bdfbd-31a8-4e62-bae8-781618096691",
   "metadata": {},
   "outputs": [
    {
     "name": "stdout",
     "output_type": "stream",
     "text": [
      "```json\n",
      "{\n",
      "\t\"domain\": [\"PhoneFiesta.com\", \"MobileMasters.com\", \"CellSavvy.com\", \"PhoneProPlus.com\", \"SmartPhoneHub.com\", \"RingMyBell.com\", \"PhoneBuzzing.com\", \"MobileMoments.com\", \"PhoneFusion.com\", \"CellPhoneSavvy.com\", \"DialDirectly.com\", \"PhonePitStop.com\", \"MobileMatey.com\", \"PhoneFanatic.com\", \"CellCentral.com\", \"PhonePhoria.com\", \"Mobile Marvels.com\", \"PhoneGenie.com\", \"CellConnection.com\", \"PhonePresto.com\"]\n",
      "}\n",
      "```\n"
     ]
    }
   ],
   "source": [
    "print(response.content)"
   ]
  },
  {
   "cell_type": "code",
   "execution_count": 133,
   "id": "cb65d755-2fbd-4bcf-8177-7d552f36a0e5",
   "metadata": {},
   "outputs": [],
   "source": [
    "output_dict = output_parser.parse(response.content)"
   ]
  },
  {
   "cell_type": "code",
   "execution_count": 134,
   "id": "e5c063f8-9cfc-4414-9b8a-50d16d5f298e",
   "metadata": {},
   "outputs": [
    {
     "data": {
      "text/plain": [
       "{'domain': ['PhoneFiesta.com',\n",
       "  'MobileMasters.com',\n",
       "  'CellSavvy.com',\n",
       "  'PhoneProPlus.com',\n",
       "  'SmartPhoneHub.com',\n",
       "  'RingMyBell.com',\n",
       "  'PhoneBuzzing.com',\n",
       "  'MobileMoments.com',\n",
       "  'PhoneFusion.com',\n",
       "  'CellPhoneSavvy.com',\n",
       "  'DialDirectly.com',\n",
       "  'PhonePitStop.com',\n",
       "  'MobileMatey.com',\n",
       "  'PhoneFanatic.com',\n",
       "  'CellCentral.com',\n",
       "  'PhonePhoria.com',\n",
       "  'Mobile Marvels.com',\n",
       "  'PhoneGenie.com',\n",
       "  'CellConnection.com',\n",
       "  'PhonePresto.com']}"
      ]
     },
     "execution_count": 134,
     "metadata": {},
     "output_type": "execute_result"
    }
   ],
   "source": [
    "output_dict"
   ]
  },
  {
   "cell_type": "code",
   "execution_count": 137,
   "id": "3c6e8424-3fc3-463f-bcac-30d8f8a62a9a",
   "metadata": {},
   "outputs": [],
   "source": [
    "output_dict['input'] = customer_messages[1].content"
   ]
  },
  {
   "cell_type": "code",
   "execution_count": 138,
   "id": "1e3f012b-5c11-47cf-9ffa-59ee639bc065",
   "metadata": {},
   "outputs": [
    {
     "name": "stdout",
     "output_type": "stream",
     "text": [
      "{'domain': ['PhoneFiesta.com', 'MobileMasters.com', 'CellSavvy.com', 'PhoneProPlus.com', 'SmartPhoneHub.com', 'RingMyBell.com', 'PhoneBuzzing.com', 'MobileMoments.com', 'PhoneFusion.com', 'CellPhoneSavvy.com', 'DialDirectly.com', 'PhonePitStop.com', 'MobileMatey.com', 'PhoneFanatic.com', 'CellCentral.com', 'PhonePhoria.com', 'Mobile Marvels.com', 'PhoneGenie.com', 'CellConnection.com', 'PhonePresto.com'], 'input': 'Please help me generate 20 domains related to phone with tld .com'}\n"
     ]
    }
   ],
   "source": [
    "print(output_dict)"
   ]
  },
  {
   "cell_type": "code",
   "execution_count": 140,
   "id": "a7e183c6-a461-4c1e-ad74-405eed01fd18",
   "metadata": {},
   "outputs": [],
   "source": [
    "output_dict_list.append(output_dict)"
   ]
  },
  {
   "cell_type": "code",
   "execution_count": 141,
   "id": "18c5f362-ad71-4e4a-a9d7-e96e0ceed242",
   "metadata": {},
   "outputs": [
    {
     "data": {
      "text/plain": [
       "{'domain': ['PhoneFiesta.com',\n",
       "  'MobileMasters.com',\n",
       "  'CellSavvy.com',\n",
       "  'PhoneProPlus.com',\n",
       "  'SmartPhoneHub.com',\n",
       "  'RingMyBell.com',\n",
       "  'PhoneBuzzing.com',\n",
       "  'MobileMoments.com',\n",
       "  'PhoneFusion.com',\n",
       "  'CellPhoneSavvy.com',\n",
       "  'DialDirectly.com',\n",
       "  'PhonePitStop.com',\n",
       "  'MobileMatey.com',\n",
       "  'PhoneFanatic.com',\n",
       "  'CellCentral.com',\n",
       "  'PhonePhoria.com',\n",
       "  'Mobile Marvels.com',\n",
       "  'PhoneGenie.com',\n",
       "  'CellConnection.com',\n",
       "  'PhonePresto.com'],\n",
       " 'input': 'Please help me generate 20 domains related to phone with tld .com'}"
      ]
     },
     "execution_count": 141,
     "metadata": {},
     "output_type": "execute_result"
    }
   ],
   "source": [
    "output_dict_list[0]"
   ]
  },
  {
   "cell_type": "code",
   "execution_count": 8,
   "id": "334c4d69-5e01-4c91-b436-0236f8a62cd5",
   "metadata": {},
   "outputs": [],
   "source": [
    "first_prompt = ChatPromptTemplate.from_template(\n",
    "    \"Translate the following review to english:\"\n",
    "    \"\\n\\n{Review}\"\n",
    ")\n",
    "output_parser = StrOutputParser()\n",
    "# chain 1: input= Review and output= English_Review\n",
    "English_review = first_prompt | llm | output_parser\n"
   ]
  },
  {
   "cell_type": "code",
   "execution_count": 9,
   "id": "5b1adf0e",
   "metadata": {},
   "outputs": [],
   "source": [
    "second_prompt = ChatPromptTemplate.from_template(\n",
    "    \"Can you summarize the following review in 1 sentence:\"\n",
    "    \"\\n\\n{English_Review}\"\n",
    ")\n",
    "\n",
    "summary = second_prompt | llm | output_parser"
   ]
  },
  {
   "cell_type": "code",
   "execution_count": 11,
   "id": "c8aea785",
   "metadata": {},
   "outputs": [],
   "source": [
    "# prompt template 3: translate to english\n",
    "third_prompt = ChatPromptTemplate.from_template(\n",
    "    \"What language is the following review:\\n\\n{Review}\"\n",
    ")\n",
    "language = third_prompt | llm | output_parser"
   ]
  },
  {
   "cell_type": "code",
   "execution_count": 13,
   "id": "1aef24d9",
   "metadata": {},
   "outputs": [],
   "source": [
    "# prompt template 4: follow up message\n",
    "fourth_prompt = ChatPromptTemplate.from_template(\n",
    "    \"Write a follow up response to the following \"\n",
    "    \"summary in the specified language:\"\n",
    "    \"\\n\\nSummary: {summary}\\n\\nLanguage: {language}\"\n",
    ")\n",
    "followup_message = fourth_prompt | llm | output_parser"
   ]
  },
  {
   "cell_type": "code",
   "execution_count": 25,
   "id": "93b8be6a",
   "metadata": {},
   "outputs": [
    {
     "ename": "TypeError",
     "evalue": "Expected a Runnable, callable or dict.Instead got an unsupported type: <class 'list'>",
     "output_type": "error",
     "traceback": [
      "\u001b[0;31m---------------------------------------------------------------------------\u001b[0m",
      "\u001b[0;31mTypeError\u001b[0m                                 Traceback (most recent call last)",
      "Cell \u001b[0;32mIn[25], line 1\u001b[0m\n\u001b[0;32m----> 1\u001b[0m pipeline \u001b[38;5;241m=\u001b[39m \u001b[43mRunnableSequence\u001b[49m\u001b[43m(\u001b[49m\u001b[43m[\u001b[49m\n\u001b[1;32m      2\u001b[0m \u001b[43m    \u001b[49m\u001b[43m{\u001b[49m\u001b[38;5;124;43m\"\u001b[39;49m\u001b[38;5;124;43menglish_review\u001b[39;49m\u001b[38;5;124;43m\"\u001b[39;49m\u001b[43m:\u001b[49m\u001b[43m \u001b[49m\u001b[43mEnglish_review\u001b[49m\u001b[43m}\u001b[49m\u001b[43m,\u001b[49m\n\u001b[1;32m      3\u001b[0m \u001b[43m    \u001b[49m\u001b[43m{\u001b[49m\u001b[38;5;124;43m\"\u001b[39;49m\u001b[38;5;124;43msummary\u001b[39;49m\u001b[38;5;124;43m\"\u001b[39;49m\u001b[43m:\u001b[49m\u001b[43m \u001b[49m\u001b[43msummary\u001b[49m\u001b[43m}\u001b[49m\u001b[43m,\u001b[49m\n\u001b[1;32m      4\u001b[0m \u001b[43m    \u001b[49m\u001b[43m{\u001b[49m\u001b[38;5;124;43m\"\u001b[39;49m\u001b[38;5;124;43mlanguage\u001b[39;49m\u001b[38;5;124;43m\"\u001b[39;49m\u001b[43m:\u001b[49m\u001b[43m \u001b[49m\u001b[43mlanguage\u001b[49m\u001b[43m}\u001b[49m\u001b[43m,\u001b[49m\n\u001b[1;32m      5\u001b[0m \u001b[43m    \u001b[49m\u001b[43m{\u001b[49m\u001b[38;5;124;43m\"\u001b[39;49m\u001b[38;5;124;43mfollowup_message\u001b[39;49m\u001b[38;5;124;43m\"\u001b[39;49m\u001b[43m:\u001b[49m\u001b[43m \u001b[49m\u001b[43mfollowup_message\u001b[49m\u001b[43m}\u001b[49m\u001b[43m,\u001b[49m\n\u001b[1;32m      6\u001b[0m \u001b[43m]\u001b[49m\u001b[43m)\u001b[49m\n",
      "File \u001b[0;32m~/anaconda3/lib/python3.10/site-packages/langchain_core/runnables/base.py:2775\u001b[0m, in \u001b[0;36mRunnableSequence.__init__\u001b[0;34m(self, name, first, middle, last, *steps)\u001b[0m\n\u001b[1;32m   2773\u001b[0m         steps_flat\u001b[38;5;241m.\u001b[39mextend(step\u001b[38;5;241m.\u001b[39msteps)\n\u001b[1;32m   2774\u001b[0m     \u001b[38;5;28;01melse\u001b[39;00m:\n\u001b[0;32m-> 2775\u001b[0m         steps_flat\u001b[38;5;241m.\u001b[39mappend(\u001b[43mcoerce_to_runnable\u001b[49m\u001b[43m(\u001b[49m\u001b[43mstep\u001b[49m\u001b[43m)\u001b[49m)\n\u001b[1;32m   2776\u001b[0m \u001b[38;5;28;01mif\u001b[39;00m \u001b[38;5;28mlen\u001b[39m(steps_flat) \u001b[38;5;241m<\u001b[39m \u001b[38;5;241m2\u001b[39m:\n\u001b[1;32m   2777\u001b[0m     msg \u001b[38;5;241m=\u001b[39m \u001b[38;5;124mf\u001b[39m\u001b[38;5;124m\"\u001b[39m\u001b[38;5;124mRunnableSequence must have at least 2 steps, got \u001b[39m\u001b[38;5;132;01m{\u001b[39;00m\u001b[38;5;28mlen\u001b[39m(steps_flat)\u001b[38;5;132;01m}\u001b[39;00m\u001b[38;5;124m\"\u001b[39m\n",
      "File \u001b[0;32m~/anaconda3/lib/python3.10/site-packages/langchain_core/runnables/base.py:5843\u001b[0m, in \u001b[0;36mcoerce_to_runnable\u001b[0;34m(thing)\u001b[0m\n\u001b[1;32m   5838\u001b[0m \u001b[38;5;28;01melse\u001b[39;00m:\n\u001b[1;32m   5839\u001b[0m     msg \u001b[38;5;241m=\u001b[39m (\n\u001b[1;32m   5840\u001b[0m         \u001b[38;5;124mf\u001b[39m\u001b[38;5;124m\"\u001b[39m\u001b[38;5;124mExpected a Runnable, callable or dict.\u001b[39m\u001b[38;5;124m\"\u001b[39m\n\u001b[1;32m   5841\u001b[0m         \u001b[38;5;124mf\u001b[39m\u001b[38;5;124m\"\u001b[39m\u001b[38;5;124mInstead got an unsupported type: \u001b[39m\u001b[38;5;132;01m{\u001b[39;00m\u001b[38;5;28mtype\u001b[39m(thing)\u001b[38;5;132;01m}\u001b[39;00m\u001b[38;5;124m\"\u001b[39m\n\u001b[1;32m   5842\u001b[0m     )\n\u001b[0;32m-> 5843\u001b[0m     \u001b[38;5;28;01mraise\u001b[39;00m \u001b[38;5;167;01mTypeError\u001b[39;00m(msg)\n",
      "\u001b[0;31mTypeError\u001b[0m: Expected a Runnable, callable or dict.Instead got an unsupported type: <class 'list'>"
     ]
    }
   ],
   "source": [
    "pipeline = RunnableSequence([\n",
    "    {\"english_review\": English_review},\n",
    "    {\"summary\": summary},\n",
    "    {\"language\": language},\n",
    "    {\"followup_message\": followup_message},\n",
    "])"
   ]
  },
  {
   "cell_type": "code",
   "execution_count": null,
   "id": "f2b5a329",
   "metadata": {},
   "outputs": [],
   "source": []
  }
 ],
 "metadata": {
  "kernelspec": {
   "display_name": "Python 3 (ipykernel)",
   "language": "python",
   "name": "python3"
  },
  "language_info": {
   "codemirror_mode": {
    "name": "ipython",
    "version": 3
   },
   "file_extension": ".py",
   "mimetype": "text/x-python",
   "name": "python",
   "nbconvert_exporter": "python",
   "pygments_lexer": "ipython3",
   "version": "3.10.9"
  }
 },
 "nbformat": 4,
 "nbformat_minor": 5
}
